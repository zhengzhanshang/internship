{
 "cells": [
  {
   "cell_type": "code",
   "execution_count": 1,
   "id": "92b9e021-6819-4bb1-9412-153d526ff012",
   "metadata": {
    "tags": []
   },
   "outputs": [],
   "source": [
    "import matplotlib.pyplot as plt\n",
    "import numpy as np\n",
    "import sympy as sy\n",
    "from scipy.special import sph_harm \n",
    "from scipy import integrate\n",
    "from scipy.integrate import dblquad\n",
    "from scipy.integrate import quad"
   ]
  },
  {
   "cell_type": "markdown",
   "id": "2459a864-1b8d-4806-9b75-65aee35b1922",
   "metadata": {},
   "source": [
    "The equation used for projection of the spherical harmonics: \n",
    "$$\n",
    "\\begin{equation}\n",
    "    \\psi_{nm}=\\int ^{2\\pi}_0 \\int^\\pi_0 \\psi(\\theta, \\phi)(Y^m_n(\\theta,\\phi))^\\ast \\sin \\theta d\\theta d\\phi\n",
    "\\end{equation}\n",
    "$$"
   ]
  },
  {
   "cell_type": "code",
   "execution_count": 2,
   "id": "62f82bd6-a3ed-4ded-8cff-3a3ec2357b4b",
   "metadata": {
    "tags": []
   },
   "outputs": [],
   "source": [
    "def projection(f_tp, theta, phi, lMax): # Projection onto sph_harm: takes f(theta,phi) as input and returns f_{nm}\n",
    "    t, p = np.meshgrid (theta, phi)\n",
    "    f_nm = np.zeros((lMax, lMax), dtype=complex)\n",
    "    for m in range (lMax): \n",
    "        for n in range (m, lMax):\n",
    "            Y_nm = sph_harm (m, n, p.reshape(-1), t.reshape(-1))\n",
    "            Y_ast = np.conj(Y_nm.reshape(N_p, N_t))\n",
    "            f_nm[n,m] = integrate.simpson(integrate.simpson(f_tp*Y_ast*np.sin(t), theta), phi)\n",
    "    return f_nm"
   ]
  },
  {
   "cell_type": "markdown",
   "id": "f9dc6c35-1e3d-4852-a27b-b82c917419bc",
   "metadata": {},
   "source": [
    "The equation used for reconstruction:\n",
    "$$\n",
    "\\begin{equation}\n",
    "    \\psi (\\theta, \\phi) = \\sum ^{N}_{\\lvert m \\rvert = 0} \\sum ^{N}_{n=\\lvert m \\rvert} \\psi_{nm} Y^m_n(\\theta, \\phi)\n",
    "\\end{equation}\n",
    "$$"
   ]
  },
  {
   "cell_type": "code",
   "execution_count": 4,
   "id": "4e61f097-74a9-497b-bc55-e1557f777c1c",
   "metadata": {
    "tags": []
   },
   "outputs": [],
   "source": [
    "def reconstruction(f_nm, theta, phi, lMax):  #Reconstruction from sph_harm, takes f_{nm} and returns f(theta,phi)\n",
    "    f_TP = np.zeros((N_p, N_t))\n",
    "    #double sum\n",
    "    for m in range(lMax):\n",
    "        for n in range(m, lMax):\n",
    "            Y_nm = sph_harm (m, n, p.reshape(-1), t.reshape(-1)).reshape(N_p, N_t)\n",
    "            if m==0:\n",
    "                f_TP += np.real(f_nm[n,m]*Y_nm) # A+=B is equivalent to A=A+B\n",
    "            else:\n",
    "                f_TP += 2.*np.real(f_nm[n,m]*Y_nm) #the negative value need to also be accounted for\n",
    "        \n",
    "    return f_TP"
   ]
  }
 ],
 "metadata": {
  "kernelspec": {
   "display_name": "Python 3 (ipykernel)",
   "language": "python",
   "name": "python3"
  },
  "language_info": {
   "codemirror_mode": {
    "name": "ipython",
    "version": 3
   },
   "file_extension": ".py",
   "mimetype": "text/x-python",
   "name": "python",
   "nbconvert_exporter": "python",
   "pygments_lexer": "ipython3",
   "version": "3.10.10"
  },
  "widgets": {
   "application/vnd.jupyter.widget-state+json": {
    "state": {},
    "version_major": 2,
    "version_minor": 0
   }
  }
 },
 "nbformat": 4,
 "nbformat_minor": 5
}
