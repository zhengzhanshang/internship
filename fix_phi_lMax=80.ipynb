{
 "cells": [
  {
   "cell_type": "code",
   "execution_count": 1,
   "id": "e1e96665-b17f-4661-a487-a7c65feb333a",
   "metadata": {},
   "outputs": [],
   "source": [
    "import matplotlib.pyplot as plt\n",
    "import numpy as np\n",
    "import sympy as sy\n",
    "from scipy.special import sph_harm \n",
    "from scipy import integrate\n",
    "from scipy.integrate import dblquad\n",
    "from scipy.integrate import quad\n",
    "%run -i func_proj_reconst.ipynb"
   ]
  },
  {
   "cell_type": "markdown",
   "id": "1628d021-1dc2-4b7e-9268-65c287398d78",
   "metadata": {},
   "source": [
    "Input Streamfunction:\n",
    "\n",
    "$$\n",
    "\\psi(\\theta, \\phi)= Re(Y_n^m(\\theta,\\phi))\n",
    "= Re(Y_2^1(\\theta,\\phi)) = Re(A\\cos\\theta\\sin\\theta e^{i\\phi}) = A\\cos\\theta\\sin\\theta \\cos\\phi\n",
    "$$\n",
    "\n",
    "$$\n",
    "A = \\frac{-1}{2}\\sqrt{\\frac{15}{2\\pi}}\n",
    "$$\n",
    "\n",
    "Analytical expression for U and V:\n",
    "\n",
    "$$\n",
    "U(\\theta, \\phi)=-\\frac{1}{r} \\frac{\\partial \\psi}{\\partial \\phi} = \\frac{A\\sin\\phi}{r}\\cos\\theta\\sin\\theta\n",
    "$$\n",
    "\n",
    "$$\n",
    "V(\\theta, \\phi)=\\frac{\\sin \\theta}{r}\\frac{\\partial \\psi}{\\partial \\theta} = \\frac{A\\cos\\phi}{r}(\\cos^2\\theta\\sin\\theta-\\sin^3\\theta)\n",
    "$$"
   ]
  },
  {
   "cell_type": "code",
   "execution_count": 2,
   "id": "ee556dce-e301-400a-9e19-889cb09d4a47",
   "metadata": {},
   "outputs": [],
   "source": [
    "N_t = 100\n",
    "N_p = 200\n",
    "#make the starting point very small\n",
    "theta = np.linspace(1e-6, np.pi, N_t) #100pts \n",
    "phi = np.linspace(0, 2*np.pi, N_p)  #200pts\n",
    "t, p = np.meshgrid(theta, phi) #create a matrix with size theta x phi (100x200), 20000 pts\n",
    "lMax = 80 #lMax is N\n",
    "omega = 3.6 #omega is te angular rotation\n",
    "nu = 1.5  #\\nu is kinematic viscosity\n",
    "T = 4 #total time\n",
    "r = 1 #let r=1"
   ]
  },
  {
   "cell_type": "code",
   "execution_count": 3,
   "id": "d265fc71-5bd0-4e6c-85c6-19e226b05038",
   "metadata": {
    "tags": []
   },
   "outputs": [],
   "source": [
    "#let phi = pi/2\n",
    "sin_p = np.sin(np.pi/2)\n",
    "cos_p = np.cos(np.pi/2)"
   ]
  },
  {
   "cell_type": "code",
   "execution_count": 4,
   "id": "2159dc02-c0c5-4223-b163-5a5e0ae83df3",
   "metadata": {},
   "outputs": [],
   "source": [
    "A = (-1/2)*((15/(2*np.pi))**(1/2))\n",
    "psi_tp_a = A*np.cos(t)*np.sin(t)*cos_p #nanalytical psi\n",
    "psi_tp = np.real(sph_harm (1, 2, p.reshape(-1), t.reshape(-1)).reshape(N_p, N_t)) #numerical psi"
   ]
  },
  {
   "cell_type": "code",
   "execution_count": 5,
   "id": "e8ed1ce3-a08b-4fd3-8433-91dfb05ed4cd",
   "metadata": {
    "tags": []
   },
   "outputs": [],
   "source": [
    "#U_tp_n is the numerical expression of U_tp\n",
    "U_tp_n = -(1/r)*np.gradient(psi_tp, phi, axis=0)\n",
    "V_tp_n = (np.sin(t)/r)*np.gradient(psi_tp, theta, axis=1)\n",
    "\n",
    "U_tp = (A/r)*np.cos(t)*np.sin(t)*sin_p #this is obtained by analytical calculation\n",
    "V_tp = (A*cos_p/r)*(np.cos(t)**2*np.sin(t)-np.sin(t)**3)\n",
    "\n",
    "psi_nm = projection(psi_tp, theta, phi, lMax)\n",
    "psi_TP = reconstruction(psi_nm, theta, phi, lMax) #reconstructed\n"
   ]
  },
  {
   "cell_type": "code",
   "execution_count": 6,
   "id": "a925c368-1f20-4453-8e53-f72fcc8920b5",
   "metadata": {},
   "outputs": [],
   "source": [
    "u_nm = projection(U_tp, theta, phi, lMax) #project U_tp to u_nm\n",
    "v_nm = projection(V_tp, theta, phi, lMax) \n",
    "\n",
    "U_TP = reconstruction(u_nm, theta, phi, lMax) #reconstructed U(theta, phi) using u_nm\n",
    "V_TP = reconstruction(v_nm, theta, phi, lMax) "
   ]
  },
  {
   "cell_type": "code",
   "execution_count": 7,
   "id": "9318a541-f73a-4499-8f7d-36992614d989",
   "metadata": {},
   "outputs": [],
   "source": [
    "u_nm_n = projection(U_tp_n, theta, phi, lMax) #project U_tp to u_nm\n",
    "v_nm_n = projection(V_tp_n, theta, phi, lMax) \n",
    "\n",
    "U_TP_n = reconstruction(u_nm_n, theta, phi, lMax) #reconstructed U(theta, phi) using u_nm\n",
    "V_TP_n = reconstruction(v_nm_n, theta, phi, lMax) "
   ]
  },
  {
   "cell_type": "code",
   "execution_count": 8,
   "id": "7b740472-9fc1-4e73-8f45-6723cc78fc33",
   "metadata": {},
   "outputs": [],
   "source": [
    "np.save('U_tp_80', U_tp)\n",
    "np.save('u_nm_80', u_nm)\n",
    "np.save('V_tp_80', V_tp)\n",
    "np.save('v_nm_80', v_nm)"
   ]
  },
  {
   "cell_type": "markdown",
   "id": "1e9164dd-791e-4ef9-9960-6ba3957bd318",
   "metadata": {},
   "source": [
    "Analytical expression of different quantities:\n",
    "$$\n",
    "\\zeta = (\\nabla \\times \\hat{u})_r = \\frac{1}{r\\sin\\theta}(\\frac{\\partial}{\\partial \\theta}(u_\\phi\\sin\\theta)-\\frac{\\partial}{\\partial \\phi}u_\\theta) = \\frac{1}{r\\sin\\theta}(\\frac{\\partial}{\\partial \\theta}V-\\frac{\\partial}{\\partial\\phi}\\frac{U}{\\sin\\theta})\n",
    "$$\n",
    "\n",
    "$$\n",
    "U'(\\theta, \\phi)=V\\zeta+2\\Omega V \\cos\\theta\n",
    "$$\n",
    "\n",
    "$$\n",
    "V'(\\theta, \\phi)=-U\\zeta-2\\Omega U \\sin \\theta\n",
    "$$\n",
    "\n",
    "$$\n",
    "\\nabla^2P=-\\frac{\\partial U'}{\\partial \\cos\\theta}+\\frac{1}{\\sin^2\\theta}\\frac{\\partial V'}{\\partial \\phi} = \\frac{1}{\\sin\\theta}\\frac{\\partial U'}{\\partial \\theta}+\\frac{1}{\\sin^2\\theta}\\frac{\\partial V'}{\\partial \\phi}\n",
    "$$\n",
    "\n",
    "$$\n",
    "p_{nm}=\\frac{-1}{n(n+1)}(\\nabla^2P)_{nm}\n",
    "$$"
   ]
  },
  {
   "cell_type": "code",
   "execution_count": 9,
   "id": "eb7ce311-9cd3-4521-9ecd-4dce8ba06263",
   "metadata": {},
   "outputs": [],
   "source": [
    "zeta_nm = np.zeros((lMax, lMax), dtype=complex)\n",
    "for m in range (1, lMax):\n",
    "    for n in range (m, lMax):\n",
    "        zeta_nm[n,m] = -1j*(n*(n+1)/m)*u_nm[n,m]\n",
    "\n",
    "zeta_tp = reconstruction(zeta_nm, theta, phi, lMax)\n",
    "U1_tp = V_tp*zeta_tp+2*omega*np.cos(t)*V_tp #U'(theta, phi)\n",
    "V1_tp = -1*U_tp*zeta_tp-2*omega*np.sin(t)*U_tp #V'(theta, phi)\n",
    "u1_nm = projection(U1_tp, theta, phi, lMax) #u'_nm\n",
    "v1_nm = projection(V1_tp, theta, phi, lMax) #v'_nm"
   ]
  },
  {
   "cell_type": "code",
   "execution_count": 10,
   "id": "836be590-bc2e-4450-8c94-e4b98e632f0f",
   "metadata": {
    "tags": []
   },
   "outputs": [],
   "source": [
    "#divP = -1*np.gradient(U1_tp, np.cos(theta), axis=1)+(1/(np.sin(t)**2))*np.gradient(V1_tp, phi, axis=0) #\\nabla^2 P\n",
    "divP = (1/np.sin(t))*np.gradient(U1_tp, theta, axis=1)+(1/(np.sin(t)**2))*np.gradient(V1_tp, phi, axis=0) #\\nabla^2 P\n",
    "\n",
    "divP_nm = projection(divP, theta, phi, lMax) #\\nabla^2 P_nm\n",
    "p_nm = np.zeros((lMax, lMax), dtype=complex)\n",
    "for m in range (1, lMax):\n",
    "    for n in range (m, lMax):\n",
    "        p_nm[n,m] = (-1/(n*(n+1)))*divP_nm[n,m]"
   ]
  },
  {
   "cell_type": "code",
   "execution_count": 11,
   "id": "102669d5-aab4-42d3-9ced-b9d7f19b162d",
   "metadata": {
    "tags": []
   },
   "outputs": [
    {
     "name": "stdout",
     "output_type": "stream",
     "text": [
      "(200, 100)\n"
     ]
    }
   ],
   "source": [
    "print(zeta_tp.shape)"
   ]
  },
  {
   "cell_type": "code",
   "execution_count": 12,
   "id": "9534cd3c-43a0-4d2b-aa85-3cb304c73529",
   "metadata": {},
   "outputs": [],
   "source": [
    "np.save('zeta_nm_80', zeta_nm)\n",
    "np.save('zeta_tp_80', zeta_tp)\n",
    "np.save('U1_tp_80', U1_tp)\n",
    "np.save('u1_nm_80', u1_nm)\n",
    "np.save('V1_tp_80', V1_tp)\n",
    "np.save('v1_nm_80', v1_nm)\n",
    "np.save('divP_80', divP)\n",
    "np.save('divP_nm_80', divP_nm)\n",
    "np.save('p_nm_80', p_nm)"
   ]
  },
  {
   "cell_type": "code",
   "execution_count": 13,
   "id": "ee8f28bd-f14e-46fb-a7c2-cf258ca46774",
   "metadata": {
    "tags": []
   },
   "outputs": [],
   "source": [
    "# fig,ax = plt.subplots(1,4);\n",
    "# ax[0].contourf(np.real(zeta_nm))\n",
    "# ax[0].set_title('zeta_nm')\n",
    "# ax[1].contourf(np.real(u1_nm))\n",
    "# ax[1].set_title(\"u'_nm\")\n",
    "# ax[2].contourf(np.real(v1_nm))\n",
    "# ax[2].set_title(\"v'_nm\")\n",
    "# ax[3].contourf(np.real(p_nm))\n",
    "# ax[3].set_title('p_nm')\n",
    "# fig.show()"
   ]
  },
  {
   "cell_type": "markdown",
   "id": "0fbc1dfb-ae9d-4539-ba2b-5245026ce0ce",
   "metadata": {},
   "source": [
    "For the above arbitrary stream function $$ \\psi(\\theta, \\phi)= Re(Y_n^m(\\theta,\\phi))\n",
    "= Re(Y_2^1(\\theta,\\phi)) = Re(A\\cos\\theta\\sin\\theta e^{i\\phi}) = A\\cos\\theta\\sin\\theta \\cos\\phi\n",
    "$$\n",
    "\n",
    "The analytical expression of the harmonics quantities is calculated as:\n",
    "\n",
    "$$\n",
    "\\zeta = \\frac{A\\cos\\phi}{r^2}(-5\\cos\\theta\\sin\\theta+\\frac{\\cos^3\\theta}{\\sin\\theta}-\\frac{\\cos\\theta}{\\sin\\theta})\n",
    "$$\n",
    "\n",
    "$$\n",
    "U' = \\frac{A^2\\cos^2\\phi}{r^3} (5\\cos\\theta\\sin^4\\theta + \\cos^5\\theta - 6\\cos^3\\theta\\sin^2\\theta - \\cos^3\\theta + \\cos\\theta\\sin^2\\theta) + \\frac{2\\Omega A\\cos\\phi}{r}(\\cos^3\\theta\\sin\\theta - \\cos\\theta\\sin^3\\theta)\n",
    "$$\n",
    "\n",
    "\n",
    "$$\n",
    "V' = \\frac{-A^2\\cos\\phi\\sin\\phi}{r^3} (-5\\cos^2\\theta\\sin^2\\theta + \\cos^4\\theta -\\cos^2\\theta) + \\frac{-2\\Omega A\\sin\\phi}{r}\\cos\\theta\\sin^2\\theta\n",
    "$$\n",
    "\n",
    "$$\n",
    "\\nabla^2P = \\frac{A^2\\cos^2\\phi}{r^3}(38\\cos^2\\theta\\sin^2\\theta - 17\\cos^4\\theta + 5\\cos^2\\theta - 5\\sin^4\\theta - \\sin^2\\theta) + \\frac{2\\Omega A\\cos\\phi}{r}(-6\\cos^2\\theta\\sin\\theta + \\frac{\\cos^4\\theta}{\\sin\\theta} + \\sin^3\\theta) + \\frac{-A^2}{r^3}(\\cos^2\\phi - \\sin^2\\phi) (-5\\cos^2\\theta + \\frac{\\cos^4\\theta}{\\sin^2\\theta} - \\frac{\\cos^2\\theta}{\\sin^2\\theta}) + \\frac{-2\\Omega A \\cos\\phi}{r}\\cos\\theta\n",
    "$$"
   ]
  },
  {
   "cell_type": "markdown",
   "id": "d92bcfb0-e394-4672-9212-51fff13f6a54",
   "metadata": {},
   "source": [
    "$$\\textit{\"_a\" denotes the analytical expression obtained by hand (equations above)}$$"
   ]
  },
  {
   "cell_type": "markdown",
   "id": "496d981b-44d8-40a1-b831-408e11c6108d",
   "metadata": {
    "tags": []
   },
   "source": [
    "$$\n",
    "\\zeta = \\frac{A\\cos\\phi}{r^2}(-5\\cos\\theta\\sin\\theta+\\frac{\\cos^3\\theta}{\\sin\\theta}-\\frac{\\cos\\theta}{\\sin\\theta})\n",
    "$$"
   ]
  },
  {
   "cell_type": "code",
   "execution_count": 14,
   "id": "5a57811a-4ff1-40a6-9959-1ac39f999b84",
   "metadata": {
    "tags": []
   },
   "outputs": [],
   "source": [
    "zeta_tp_a = A*cos_p*(-5*np.cos(t)*np.sin(t)+(np.cos(t)**3/np.sin(t))-(np.cos(t)/np.sin(t)))/(r**2) \n",
    "\n",
    "zeta_nm_a = projection(zeta_tp_a, theta, phi, lMax)\n"
   ]
  },
  {
   "cell_type": "code",
   "execution_count": 15,
   "id": "c786d01f-2b40-40c4-924b-386d4920d87b",
   "metadata": {
    "tags": []
   },
   "outputs": [
    {
     "name": "stdout",
     "output_type": "stream",
     "text": [
      "max difference between analytical and numerical zeta_tp\n",
      " 1.5406338484690993\n",
      "max difference between analytical and numerical zeta_nm\n",
      " 0.028114577837931365\n"
     ]
    }
   ],
   "source": [
    "print (\"max difference between analytical and numerical zeta_tp\\n\",np.amax(np.abs(zeta_tp_a-zeta_tp)))\n",
    "print (\"max difference between analytical and numerical zeta_nm\\n\",np.amax(np.abs(zeta_nm_a-zeta_nm)))\n",
    "\n",
    "#plt.plot(zeta_nm_a[10,:], color='red')\n",
    "#plt.plot(zeta_nm[10,:], color='green')"
   ]
  },
  {
   "cell_type": "code",
   "execution_count": 16,
   "id": "c49bfb1e-19e7-4ea6-a624-5a29bc34c7c8",
   "metadata": {
    "tags": []
   },
   "outputs": [],
   "source": [
    "np.save('zeta_tp_a_80', zeta_tp_a)\n",
    "np.save('zeta_nm_a_80', zeta_nm_a)"
   ]
  },
  {
   "cell_type": "code",
   "execution_count": 17,
   "id": "c064f471-e96a-427a-96c6-5e984aca2f88",
   "metadata": {
    "tags": []
   },
   "outputs": [
    {
     "name": "stderr",
     "output_type": "stream",
     "text": [
      "/tmp/ipykernel_436/2319491453.py:1: RuntimeWarning: divide by zero encountered in divide\n",
      "  zeta_nm_a_error = np.abs(zeta_nm_a-zeta_nm)/zeta_nm\n",
      "/tmp/ipykernel_436/2319491453.py:1: RuntimeWarning: invalid value encountered in divide\n",
      "  zeta_nm_a_error = np.abs(zeta_nm_a-zeta_nm)/zeta_nm\n"
     ]
    }
   ],
   "source": [
    "zeta_nm_a_error = np.abs(zeta_nm_a-zeta_nm)/zeta_nm\n",
    "# plt.plot(zeta_nm_a, zeta_nm_a_error)\n",
    "# plt.title(\"zeta_nm_a vs error\")\n",
    "# plt.xlabel(\"zeta_nm_a\")\n",
    "# plt.ylabel(\"error\")"
   ]
  },
  {
   "cell_type": "markdown",
   "id": "d6bd8cde-819f-4b40-83cd-b29b5a4358fb",
   "metadata": {},
   "source": [
    "$$\n",
    "U' = \\frac{A^2\\cos^2\\phi}{r^3} (5\\cos\\theta\\sin^4\\theta + \\cos^5\\theta - 6\\cos^3\\theta\\sin^2\\theta - \\cos^3\\theta + \\cos\\theta\\sin^2\\theta) + \\frac{2\\Omega A\\cos\\phi}{r}(\\cos^3\\theta\\sin\\theta - \\cos\\theta\\sin^3\\theta)\n",
    "$$"
   ]
  },
  {
   "cell_type": "code",
   "execution_count": 18,
   "id": "679f75ec-e845-4573-bb36-4dae33171e15",
   "metadata": {},
   "outputs": [],
   "source": [
    "a_U = A**2*cos_p**2*(5*np.cos(t)*np.sin(t)**4+np.cos(t)**5-6*np.cos(t)**3*np.sin(t)**2-np.cos(t)**3+np.cos(t)*np.sin(t)**2)/(r**3)\n",
    "b_U = 2*omega*A*cos_p*(np.cos(t)**3*np.sin(t)-np.cos(t)*np.sin(t)**3)/r\n",
    "\n",
    "U1_tp_a=a_U+b_U\n",
    "u1_nm_a = projection(U1_tp_a, theta, phi, lMax)\n"
   ]
  },
  {
   "cell_type": "code",
   "execution_count": 19,
   "id": "602a44f5-f494-4cfe-959a-5b7199a1fe01",
   "metadata": {
    "tags": []
   },
   "outputs": [
    {
     "name": "stdout",
     "output_type": "stream",
     "text": [
      "max difference between analytical and numerical U1_tp\n",
      " 4.101490367299765e-17\n",
      "max difference between analytical and numerical u1_nm\n",
      " 1.0889825827747403e-18\n"
     ]
    }
   ],
   "source": [
    "print (\"max difference between analytical and numerical U1_tp\\n\",np.amax(np.abs(U1_tp_a-U1_tp)))\n",
    "print (\"max difference between analytical and numerical u1_nm\\n\",np.amax(np.abs(u1_nm_a-u1_nm)))\n",
    "\n",
    "#plt.plot(u1_nm_a[10,:], color='red')\n",
    "#plt.plot(u1_nm[10,:], color='green')"
   ]
  },
  {
   "cell_type": "code",
   "execution_count": 20,
   "id": "af646dea-a04d-4696-b8d1-b22cd807e09b",
   "metadata": {},
   "outputs": [],
   "source": [
    "np.save('U1_tp_a_80', U1_tp_a)\n",
    "np.save('u1_nm_a_80', u1_nm_a)"
   ]
  },
  {
   "cell_type": "code",
   "execution_count": 21,
   "id": "7e2fe625-c60b-4419-9fb4-7529561264e4",
   "metadata": {
    "tags": []
   },
   "outputs": [],
   "source": [
    "U1_tp_a_error = np.abs(U1_tp_a-U1_tp)/U1_tp\n",
    "# plt.plot(U1_tp_a, U1_tp_a_error)\n",
    "# plt.title(\"U1_tp_a vs error\")\n",
    "# plt.xlabel(\"U1_tp_a\")\n",
    "# plt.ylabel(\"error\")"
   ]
  },
  {
   "cell_type": "code",
   "execution_count": 22,
   "id": "764c1bee-d4f4-45ea-bba0-1de0ba35bc5b",
   "metadata": {
    "tags": []
   },
   "outputs": [
    {
     "name": "stderr",
     "output_type": "stream",
     "text": [
      "/tmp/ipykernel_436/1498965638.py:1: RuntimeWarning: invalid value encountered in divide\n",
      "  u1_nm_a_error = np.abs(u1_nm_a-u1_nm)/u1_nm\n"
     ]
    }
   ],
   "source": [
    "u1_nm_a_error = np.abs(u1_nm_a-u1_nm)/u1_nm\n",
    "# plt.plot(u1_nm_a, u1_nm_a_error)\n",
    "# plt.title(\"u1_nm_a vs error\")\n",
    "# plt.xlabel(\"u1_nm_a\")\n",
    "# plt.ylabel(\"error\")"
   ]
  },
  {
   "cell_type": "markdown",
   "id": "0ce36cd8-6b6d-4b0a-b458-1982903afdb3",
   "metadata": {},
   "source": [
    "$$\n",
    "V' = \\frac{-A^2\\cos\\phi\\sin\\phi}{r^3} (-5\\cos^2\\theta\\sin^2\\theta + \\cos^4\\theta -\\cos^2\\theta) + \\frac{-2\\Omega A\\sin\\phi}{r}\\cos\\theta\\sin^2\\theta\n",
    "$$"
   ]
  },
  {
   "cell_type": "code",
   "execution_count": 23,
   "id": "7b2b7359-5781-4395-a20f-aac1db757ffb",
   "metadata": {},
   "outputs": [],
   "source": [
    "a_V = -1*A**2*cos_p*sin_p*(-5*np.cos(t)**2*np.sin(t)**2+np.cos(t)**4-np.cos(t)**2)/(r**3)\n",
    "b_V = -2*omega*A*sin_p*np.cos(t)*np.sin(t)**2/r\n",
    "\n",
    "V1_tp_a = a_V+b_V\n",
    "v1_nm_a = projection(V1_tp_a, theta, phi, lMax)\n"
   ]
  },
  {
   "cell_type": "code",
   "execution_count": 24,
   "id": "b47a0f47-50aa-4624-9551-db0c9575e68e",
   "metadata": {
    "tags": []
   },
   "outputs": [
    {
     "name": "stdout",
     "output_type": "stream",
     "text": [
      "max difference between analytical and numerical V1_tp\n",
      " 0.5647457134800993\n",
      "max difference between analytical and numerical v1_nm\n",
      " 0.009911966969119683\n"
     ]
    }
   ],
   "source": [
    "print (\"max difference between analytical and numerical V1_tp\\n\",np.amax(np.abs(V1_tp_a-V1_tp)))\n",
    "print (\"max difference between analytical and numerical v1_nm\\n\",np.amax(np.abs(v1_nm_a-v1_nm)))\n",
    " \n",
    "#plt.plot(v1_nm_a[10,:], color='red')\n",
    "#plt.plot(v1_nm[10,:], color='green')"
   ]
  },
  {
   "cell_type": "code",
   "execution_count": 25,
   "id": "8c4ba117-b4a3-425b-a391-60bfed7867c9",
   "metadata": {},
   "outputs": [],
   "source": [
    "np.save('V1_tp_a_80', V1_tp_a)\n",
    "np.save('v1_nm_a_80', v1_nm_a)"
   ]
  },
  {
   "cell_type": "code",
   "execution_count": 26,
   "id": "47b09615-6c8d-4d33-bc7c-a78fbf84f042",
   "metadata": {
    "tags": []
   },
   "outputs": [],
   "source": [
    "V1_tp_a_error = np.abs(V1_tp_a-V1_tp)/V1_tp\n",
    "# plt.plot(V1_tp_a, V1_tp_a_error)\n",
    "# plt.title(\"V1_tp_a vs error\")\n",
    "# plt.xlabel(\"V1_tp_a\")\n",
    "# plt.ylabel(\"error\")"
   ]
  },
  {
   "cell_type": "code",
   "execution_count": 27,
   "id": "3591d86b-1cd0-4dce-b350-b0224afdcd20",
   "metadata": {
    "tags": []
   },
   "outputs": [
    {
     "name": "stderr",
     "output_type": "stream",
     "text": [
      "/tmp/ipykernel_436/4272200411.py:1: RuntimeWarning: invalid value encountered in divide\n",
      "  v1_nm_a_error = np.abs(v1_nm_a-v1_nm)/v1_nm\n"
     ]
    }
   ],
   "source": [
    "v1_nm_a_error = np.abs(v1_nm_a-v1_nm)/v1_nm\n",
    "# plt.plot(v1_nm_a, v1_nm_a_error)\n",
    "# plt.title(\"v1_nm_a vs error\")\n",
    "# plt.xlabel(\"v1_nm_a\")\n",
    "# plt.ylabel(\"error\")"
   ]
  },
  {
   "cell_type": "markdown",
   "id": "c1905091-e165-467b-8a53-31db5865d8c8",
   "metadata": {},
   "source": [
    "$$\n",
    "\\nabla^2P = \\frac{A^2\\cos^2\\phi}{r^3}(38\\cos^2\\theta\\sin^2\\theta - 17\\cos^4\\theta + 5\\cos^2\\theta - 5\\sin^4\\theta - \\sin^2\\theta) + \\frac{2\\Omega A\\cos\\phi}{r}(-6\\cos^2\\theta\\sin\\theta + \\frac{\\cos^4\\theta}{\\sin\\theta} + \\sin^3\\theta) + \\frac{-A^2}{r^3}(\\cos^2\\phi - \\sin^2\\phi) (-5\\cos^2\\theta + \\frac{\\cos^4\\theta}{\\sin^2\\theta} - \\frac{\\cos^2\\theta}{\\sin^2\\theta}) + \\frac{-2\\Omega A \\cos\\phi}{r}\\cos\\theta\n",
    "$$"
   ]
  },
  {
   "cell_type": "code",
   "execution_count": 28,
   "id": "8839106e-ed00-4320-b5aa-f62c348a7e2f",
   "metadata": {
    "tags": []
   },
   "outputs": [],
   "source": [
    "a_divP=A**2*cos_p**2*(38*np.cos(t)**2*np.sin(t)**2-17*np.cos(t)**4+5*np.cos(t)**2-5*np.cos(t)**4-np.sin(t)**2)/(r**3)\n",
    "b_divP=2*omega*A*cos_p*(-6*np.cos(t)**2*np.sin(t)+(np.cos(t)**4/np.sin(t))+np.sin(t)**3)/r\n",
    "c_divP=-1*A**2*(cos_p**2-sin_p**2)*(-5*np.cos(t)**2+(np.cos(t)**4/(np.sin(t)**2))-(np.cos(t)**2/(np.sin(t)**2)))/(r**3)\n",
    "d_divP=-2*omega*A*cos_p*np.cos(t)/r\n",
    "\n",
    "divP_a=a_divP+b_divP+c_divP+d_divP\n",
    "divP_nm_a = projection(divP_a, theta, phi, lMax)\n"
   ]
  },
  {
   "cell_type": "code",
   "execution_count": 29,
   "id": "b67b529f-4f4e-4148-adf6-37e752f69815",
   "metadata": {
    "tags": []
   },
   "outputs": [
    {
     "name": "stdout",
     "output_type": "stream",
     "text": [
      "max difference between analytical and numerical divP\n",
      " -0.0019393980155619922\n",
      "max difference between analytical and numerical divP_nm\n",
      " 4.189044903334596\n"
     ]
    }
   ],
   "source": [
    "print (\"max difference between analytical and numerical divP\\n\",np.amax(np.abs(divP_a-divP)/divP_a))\n",
    "print (\"max difference between analytical and numerical divP_nm\\n\",np.amax(np.abs(divP_nm_a-divP_nm)))\n",
    "\n",
    "#plt.plot(divP_nm_a[30,:], color='red')\n",
    "#plt.plot(divP_nm[30,:], color='green')"
   ]
  },
  {
   "cell_type": "code",
   "execution_count": 30,
   "id": "8b8f4881-b162-4ec0-abc9-7323e5c0ca90",
   "metadata": {},
   "outputs": [],
   "source": [
    "np.save('divP_a_80', divP_a)\n",
    "np.save('divP_nm_a_80', divP_nm_a)"
   ]
  },
  {
   "cell_type": "code",
   "execution_count": 31,
   "id": "cb035e62-15de-43f8-9bdb-88a932000f14",
   "metadata": {
    "tags": []
   },
   "outputs": [],
   "source": [
    "divP_a_error = np.abs(divP_a-divP)/divP\n",
    "# plt.plot(divP_a, divP_a_error)\n",
    "# plt.title(\"divP_a vs error\")\n",
    "# plt.xlabel(\"divP_a\")\n",
    "# plt.ylabel(\"error\")"
   ]
  },
  {
   "cell_type": "code",
   "execution_count": 32,
   "id": "f5396b65-2fb5-4c93-8a19-531bb2111952",
   "metadata": {
    "tags": []
   },
   "outputs": [
    {
     "name": "stderr",
     "output_type": "stream",
     "text": [
      "/tmp/ipykernel_436/2667720334.py:1: RuntimeWarning: invalid value encountered in divide\n",
      "  divP_nm_a_error = np.abs(divP_nm_a-divP_nm)/divP_nm\n"
     ]
    }
   ],
   "source": [
    "divP_nm_a_error = np.abs(divP_nm_a-divP_nm)/divP_nm\n",
    "# plt.plot(divP_nm_a, divP_nm_a_error)\n",
    "# plt.title(\"divP_nm_a vs error\")\n",
    "# plt.xlabel(\"divP_nm_a\")\n",
    "# plt.ylabel(\"error\")"
   ]
  }
 ],
 "metadata": {
  "kernelspec": {
   "display_name": "Python 3 (ipykernel)",
   "language": "python",
   "name": "python3"
  },
  "language_info": {
   "codemirror_mode": {
    "name": "ipython",
    "version": 3
   },
   "file_extension": ".py",
   "mimetype": "text/x-python",
   "name": "python",
   "nbconvert_exporter": "python",
   "pygments_lexer": "ipython3",
   "version": "3.10.10"
  },
  "widgets": {
   "application/vnd.jupyter.widget-state+json": {
    "state": {},
    "version_major": 2,
    "version_minor": 0
   }
  }
 },
 "nbformat": 4,
 "nbformat_minor": 5
}
