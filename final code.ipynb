{
 "cells": [
  {
   "cell_type": "code",
   "execution_count": 3,
   "id": "e1e96665-b17f-4661-a487-a7c65feb333a",
   "metadata": {},
   "outputs": [],
   "source": [
    "import matplotlib.pyplot as plt\n",
    "import numpy as np\n",
    "import sympy as sy\n",
    "from sympy import Derivative, Symbol\n",
    "from scipy.special import sph_harm \n",
    "from scipy import integrate\n",
    "from scipy.integrate import dblquad\n",
    "from scipy.integrate import quad"
   ]
  },
  {
   "cell_type": "code",
   "execution_count": 4,
   "id": "ee556dce-e301-400a-9e19-889cb09d4a47",
   "metadata": {},
   "outputs": [],
   "source": [
    "N_t = 50\n",
    "N_p = 100\n",
    "theta = np.linspace(1e-4, np.pi, N_t) #make the starting point very small\n",
    "phi = np.linspace(0, 2*np.pi, N_p) \n",
    "t, p = np.meshgrid(theta, phi)\n",
    "lMax = 20 #lMax is N\n",
    "omega = 3.6 #omega is te angular rotation\n",
    "nu = 1.5  #\\nu is kinematic viscosity\n",
    "T = 4 #total time\n",
    "\n",
    "#let r=1\n",
    "#input stream function psi_TP=np.cos(t)**3*np.sin(t)*np.sin(p)**2\n",
    "U_tp = -np.sin(t)*np.cos(t)**3*2*np.sin(p)*np.cos(p) #this is obtained by analytical calculation\n",
    "V_tp = np.sin(t)*np.sin(p)**2*((-3)*np.cos(t)**2*np.sin(t)**2+np.cos(t)**4)"
   ]
  },
  {
   "cell_type": "markdown",
   "id": "24b1c814-913e-4bd4-8195-c01605bc2f58",
   "metadata": {},
   "source": [
    "The equation used for projection of the spherical harmonics: \n",
    "$$\n",
    "\\begin{equation}\n",
    "    \\psi_{nm}=\\int ^{2\\pi}_0 \\int^\\pi_0 \\psi(\\theta, \\phi)(Y^m_n(\\theta,\\phi))^\\ast \\sin \\theta d\\theta d\\phi\n",
    "\\end{equation}\n",
    "$$"
   ]
  },
  {
   "cell_type": "code",
   "execution_count": 5,
   "id": "844d0f46-9615-4c7a-91af-d237e0d08048",
   "metadata": {},
   "outputs": [],
   "source": [
    "def projection(f_tp, theta, phi, lMax): # Projection onto sph_harm: takes f(theta,phi) as input and returns f_{nm}\n",
    "    t, p = np.meshgrid (theta, phi)\n",
    "    f_nm = np.zeros((lMax, lMax), dtype=complex)\n",
    "    for m in range (lMax): \n",
    "        for n in range (m, lMax):\n",
    "            Y_nm = sph_harm (m, n, p.reshape(-1), t.reshape(-1))\n",
    "            Y_ast = np.conj(Y_nm.reshape(N_p, N_t))\n",
    "            f_nm[n,m] = integrate.simpson(integrate.simpson(f_tp*Y_ast*np.sin(t), theta), phi)\n",
    "    return f_nm"
   ]
  },
  {
   "cell_type": "markdown",
   "id": "858fa85c-cd68-45d6-8d1d-a6f376db1732",
   "metadata": {},
   "source": [
    "The equation used for reconstruction:\n",
    "$$\n",
    "\\begin{equation}\n",
    "    \\psi (\\theta, \\phi) = \\sum ^{N}_{\\lvert m \\rvert = 0} \\sum ^{N}_{n=\\lvert m \\rvert} \\psi_{nm} Y^m_n(\\theta, \\phi)\n",
    "\\end{equation}\n",
    "$$"
   ]
  },
  {
   "cell_type": "code",
   "execution_count": 6,
   "id": "9d09cc3b-4e50-496a-befc-0e201a27220e",
   "metadata": {},
   "outputs": [],
   "source": [
    "def reconstruction(f_nm, theta, phi, lMax):  #Reconstruction from sph_harm, takes f_{nm} and returns f(theta,phi)\n",
    "    f_TP = np.zeros((N_p, N_t))\n",
    "    #double sum\n",
    "    for m in range(lMax):\n",
    "        for n in range(m, lMax):\n",
    "            Y_nm = sph_harm (m, n, p.reshape(-1), t.reshape(-1)).reshape(N_p, N_t)\n",
    "            if m==0:\n",
    "                f_TP += np.real(f_nm[n,m]*Y_nm) # A+=B is equivalent to A=A+B\n",
    "            else:\n",
    "                f_TP += 2.*np.real(f_nm[n,m]*Y_nm) #the negative value need to also be accounted for\n",
    "    return f_TP"
   ]
  },
  {
   "cell_type": "code",
   "execution_count": 7,
   "id": "2980491f-487b-45ae-996e-700a12e67cd0",
   "metadata": {},
   "outputs": [],
   "source": [
    "u_nm = projection(U_tp, theta, phi, lMax) #project U_tp to u_nm\n",
    "v_nm = projection(V_tp, theta, phi, lMax) "
   ]
  },
  {
   "cell_type": "code",
   "execution_count": 8,
   "id": "08ca6977-fbde-48da-b028-a47c288bb0c0",
   "metadata": {},
   "outputs": [],
   "source": [
    "U_TP = reconstruction(u_nm, theta, phi, lMax) #reconstructed U(theta, phi) using u_nm\n",
    "V_TP = reconstruction(v_nm, theta, phi, lMax) "
   ]
  },
  {
   "cell_type": "code",
   "execution_count": 9,
   "id": "0f378c6b-9248-4ac9-9c8d-8a2917442523",
   "metadata": {},
   "outputs": [
    {
     "name": "stdout",
     "output_type": "stream",
     "text": [
      "max difference between original and reconstructed U\n",
      " 0.03427679241137341\n",
      "max difference between original and reconstructed V\n",
      " 0.02839982457632936\n"
     ]
    }
   ],
   "source": [
    "print (\"max difference between original and reconstructed U\\n\",np.amax(np.abs(U_TP-U_tp)))\n",
    "print (\"max difference between original and reconstructed V\\n\",np.amax(np.abs(V_TP-V_tp)))"
   ]
  },
  {
   "cell_type": "markdown",
   "id": "1e9164dd-791e-4ef9-9960-6ba3957bd318",
   "metadata": {},
   "source": [
    "Analytical expression of different quantities:\n",
    "$$\n",
    "\\begin{equation}\n",
    "    \\zeta_{nm}=-in(n+1)m^{-1}u_{nm}\n",
    "\\end{equation}\n",
    "\n",
    "\n",
    "\\begin{equation}\n",
    "    U'(\\theta, \\phi)=V\\zeta+2\\Omega V \\cos\\theta\n",
    "\\end{equation}\n",
    "\n",
    "\n",
    "\\begin{equation}\n",
    "    V'(\\theta, \\phi)=-U\\zeta-2\\Omega U \\sin \\theta\n",
    "\\end{equation}\n",
    "\n",
    "\n",
    "\\begin{equation}\n",
    "    \\nabla^2P=\\frac{\\partial U'}{\\partial \\cos\\theta}+\\frac{1}{\\sin^2\\theta}\\frac{\\partial V'}{\\partial \\phi}\n",
    "\\end{equation}\n",
    "\n",
    "\n",
    "\\begin{equation}\n",
    "    p_{nm}=\\frac{-1}{n(n+1)}(\\nabla^2P)_{nm}\n",
    "\\end{equation}\n",
    "$$"
   ]
  },
  {
   "cell_type": "code",
   "execution_count": 10,
   "id": "eb7ce311-9cd3-4521-9ecd-4dce8ba06263",
   "metadata": {},
   "outputs": [],
   "source": [
    "zeta_nm = np.zeros((lMax, lMax), dtype=complex)\n",
    "for m in range (1, lMax):\n",
    "    for n in range (m, lMax):\n",
    "        zeta_nm[n,m] = -1j*(n*(n+1)/m)*u_nm[n,m]\n",
    "\n",
    "zeta_tp = reconstruction(zeta_nm, theta, phi, lMax)\n",
    "U1_tp = V_TP*zeta_tp+2*omega*np.cos(t)*V_TP #U'(theta, phi)\n",
    "V1_tp = -1*U_TP*zeta_tp-2*omega*np.cos(t)*U_TP #V'(theta, phi)\n",
    "u1_nm = projection(U1_tp, theta, phi, lMax) #u'_nm\n",
    "v1_nm = projection(V1_tp, theta, phi, lMax) #v'_nm\n",
    "\n",
    "divP = -1*np.gradient(U1_tp, np.cos(theta), axis=1)+(1/(np.sin(theta)**2))*np.gradient(V1_tp, phi, axis=0) #\\nabla^1 P\n",
    "    \n",
    "divP_nm = projection(divP, theta, phi, lMax) #\\nabla^2 P_nm\n",
    "p_nm = np.zeros((lMax, lMax), dtype=complex)\n",
    "for m in range (1, lMax):\n",
    "    for n in range (m, lMax):\n",
    "        p_nm[n,m] = (-1/(n*(n+1)))*divP_nm[n,m]"
   ]
  },
  {
   "cell_type": "code",
   "execution_count": 11,
   "id": "a808cae4-542a-4f53-b8cc-30432717dcf2",
   "metadata": {},
   "outputs": [],
   "source": [
    "def zeta(lMax, u_nm): # fucntion for calculate zeta_nm\n",
    "    t, p = np.meshgrid(theta, phi)\n",
    "    zeta_nm = np.zeros((lMax, lMax), dtype=complex)\n",
    "    for m in range (1, lMax):\n",
    "        for n in range (m, lMax):\n",
    "            zeta_nm[n,m] = -1j*(n*(n+1)/m)*u_nm[n,m]\n",
    "    return zeta_nm"
   ]
  },
  {
   "cell_type": "code",
   "execution_count": 12,
   "id": "33fe18ad-2567-4761-9606-02e1a04c6ba7",
   "metadata": {},
   "outputs": [],
   "source": [
    "def pressure(lMax, omega, theta, phi, zeta_nm): # fucntion for calculate p_nm\n",
    "    t, p = np.meshgrid(theta, phi)\n",
    "    zeta_tp = reconstruction(zeta_nm, theta, phi, lMax)\n",
    "    U1_tp = V_TP*zeta_tp+2*omega*np.cos(t)*V_TP #U'(theta, phi)\n",
    "    V1_tp = -1*U_TP*zeta_tp-2*omega*np.cos(t)*U_TP #V'(theta, phi)\n",
    "    divP = -1*np.gradient(U1_tp, np.cos(theta), axis=1)+(1/(np.sin(theta)**2))*np.gradient(V1_tp, phi, axis=0)\n",
    "    divP_nm = projection(divP, theta, phi, lMax)\n",
    "    p_nm = np.zeros((lMax, lMax), dtype=complex)\n",
    "    for m in range (1, lMax):\n",
    "        for n in range (m, lMax):\n",
    "            p_nm[n,m] = (-1/(n*(n+1)))*divP_nm[n,m]\n",
    "    return p_nm"
   ]
  },
  {
   "cell_type": "markdown",
   "id": "04196a57-349c-4e9b-958c-01f9264fa22b",
   "metadata": {},
   "source": [
    "Analytical expression for u_dt[n,m] and v_dt[n,m]:\n",
    "$$\n",
    "\\begin{equation}\n",
    "    \\begin{aligned}\n",
    "        \\frac{u^{t+\\Delta t}_{nm}-u^{t}_{nm}}{\\Delta t} = & u'_{nm}+(n+2)(n+m+1)(2n+3)^{-1}p_{n+1,m} \\\\\n",
    "        & +(n-m)(1-n)(2n-1)^{-1}p_{n-1,m}-\\nu n(n+1)u^t_{nm}\n",
    "    \\end{aligned}\n",
    "\\end{equation}\n",
    "$$\n",
    "\n",
    "\n",
    "$$\n",
    "\\begin{equation}\n",
    "    v^{t+\\Delta t}_{nm} = \\frac{1}{im} [B_{np}(n-1)u^{t+\\Delta t}_{n-1,m} + B_{nm}(n+1)u^{t+\\Delta t}_{n+1,m}]\n",
    "\\end{equation}\n",
    "$$"
   ]
  },
  {
   "cell_type": "code",
   "execution_count": 13,
   "id": "daa34af0-9e5a-4b9d-8f2c-c9889b98a75f",
   "metadata": {},
   "outputs": [],
   "source": [
    "z = zeta(lMax, u_nm)\n",
    "pre = pressure(lMax, omega, theta, phi, z)\n",
    "\n",
    "u_t = projection(U_tp, theta, phi, lMax) #u_t is u_nm^(t)\n",
    "u_dt = np.zeros((lMax, lMax), dtype=complex)\n",
    "v_dt = np.zeros((lMax, lMax), dtype=complex)\n",
    "for dt in np.arange (2, T, 0.02): #u_dt is u_nm^(t+dt)\n",
    "    for m in range (0, lMax):\n",
    "        for n in range (m, lMax-1):\n",
    "            if n>0:\n",
    "                #analytical expression \n",
    "                u_dt[n,m] = u_t[n,m]+dt*(u1_nm[n,m]+(n+2)*(n+m+1)*(2*n+3)**(-1)*pre[n+1,m]+(n-m)*(1-n)*(2*n-1)**(-1)*pre[n-1,m]-nu*n*(n+1)+u_t[n,m])\n",
    "\n",
    "            else:\n",
    "                #pole condition\n",
    "                u_dt[n,m] = u_t[n,m]+dt*(u1_nm[n,m]+(n+2)*(n+m+1)*(2*n+3)**(-1)*pre[n+1,m]-nu*n*(n+1)+u_t[n,m])\n",
    "                \n",
    "           \n",
    "    u_t = u_dt #u_dt is the new u_nm\n",
    "    #compute new pressure and u' here\n",
    "    \n",
    "    \n",
    "    \n",
    "    #u'_nm depends on U', which depends on V(theta, phi), which do not change in this, so u'_nm should not change in the loop\n",
    "    #pressure depends on zeta, which depends on u_nm, so we should calculate for a new zeta and a new pressure\n",
    "    #use u_dt as the new u_nm\n",
    "    z = zeta(lMax, u_dt)\n",
    "    pre = pressure(lMax, omega, theta, phi, z) \n",
    "    for m in range(1, lMax): #calculation for v_nm^(t+dt)\n",
    "        for n in range(m, lMax-1):\n",
    "            B_np = -1*(n-1)*(n-m)*(2*n-1)**(-1)\n",
    "            B_nm = (n+2)*(n+m+1)*(2*n+3)**(-1)\n",
    "            v_dt[n,m] = (m*1j)**(-1)*(B_np*u_dt[n-1,m]+B_nm*u_dt[n+1,m]) #v_dt is v_nm^(t+dt)\n",
    "    \n"
   ]
  },
  {
   "cell_type": "code",
   "execution_count": 14,
   "id": "4a73fbc2-b2c7-4e4d-bcb0-7e6fa3b8d8d6",
   "metadata": {
    "tags": []
   },
   "outputs": [
    {
     "data": {
      "image/png": "[encoded data removed]",
      "text/plain": [
       "<Figure size 640x480 with 2 Axes>"
      ]
     },
     "metadata": {},
     "output_type": "display_data"
    }
   ],
   "source": [
    "fig,ax = plt.subplots(1,2);\n",
    "ax[0].contourf(np.real(u_dt))\n",
    "ax[0].set_title('u_dt')\n",
    "ax[1].contourf(np.real(v_dt))\n",
    "ax[1].set_title('v_dt')\n",
    "fig.show()\n",
    "fig.savefig('final.pdf')"
   ]
  }
 ],
 "metadata": {
  "kernelspec": {
   "display_name": "Python 3 (ipykernel)",
   "language": "python",
   "name": "python3"
  },
  "language_info": {
   "codemirror_mode": {
    "name": "ipython",
    "version": 3
   },
   "file_extension": ".py",
   "mimetype": "text/x-python",
   "name": "python",
   "nbconvert_exporter": "python",
   "pygments_lexer": "ipython3",
   "version": "3.10.10"
  },
  "widgets": {
   "application/vnd.jupyter.widget-state+json": {
    "state": {},
    "version_major": 2,
    "version_minor": 0
   }
  }
 },
 "nbformat": 4,
 "nbformat_minor": 5
}
