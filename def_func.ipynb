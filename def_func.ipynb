{
 "cells": [
  {
   "cell_type": "code",
   "execution_count": 1,
   "id": "92b9e021-6819-4bb1-9412-153d526ff012",
   "metadata": {
    "tags": []
   },
   "outputs": [],
   "source": [
    "import matplotlib.pyplot as plt\n",
    "import numpy as np\n",
    "import sympy as sy\n",
    "from scipy.special import sph_harm \n",
    "from scipy.special import legendre\n",
    "from scipy import integrate\n",
    "from scipy.integrate import dblquad\n",
    "from scipy.integrate import quad\n",
    "from math import factorial\n",
    "%run -i func_sph_harm.ipynb"
   ]
  },
  {
   "cell_type": "markdown",
   "id": "2459a864-1b8d-4806-9b75-65aee35b1922",
   "metadata": {},
   "source": [
    "The equation used for projection of the spherical harmonics: \n",
    "$$\n",
    "\\begin{equation}\n",
    "    \\psi_{nm}=\\int ^{2\\pi}_0 \\int^\\pi_0 \\psi(\\theta, \\phi)(Y^m_n(\\theta,\\phi))^\\ast \\sin \\theta d\\theta d\\phi\n",
    "\\end{equation}\n",
    "$$"
   ]
  },
  {
   "cell_type": "code",
   "execution_count": 2,
   "id": "2dfe9d7e-7bd9-4b4c-8aea-a303e47371ad",
   "metadata": {},
   "outputs": [],
   "source": [
    "def projection(f_tp, theta, phi, lMax): # Projection onto sph_harm: takes f(theta,phi) as input and returns f_{nm}\n",
    "    t, p = np.meshgrid (theta, phi)\n",
    "    f_nm = np.zeros((lMax, lMax), dtype=complex)\n",
    "\n",
    "    for m in range (lMax): \n",
    "        #Y_nm = sphericalHarmonic(np.array([m, lMax]), np.array([0, lMax]), theta, phi).reshape(N_t, N_p).T\n",
    "        for n in range (m, lMax):\n",
    "            Y_nm = sphericalHarmonic(n, m, theta, phi).reshape(N_t, N_p).T\n",
    "            Y_ast = np.conj(Y_nm)\n",
    "            f_nm[n,m] = integrate.simpson(integrate.simpson(f_tp*Y_ast*np.sin(theta), theta), phi)\n",
    "    '''f_nm shape is (lMax, lMax)'''\n",
    "    return f_nm"
   ]
  },
  {
   "cell_type": "markdown",
   "id": "f9dc6c35-1e3d-4852-a27b-b82c917419bc",
   "metadata": {},
   "source": [
    "The equation used for reconstruction:\n",
    "$$\n",
    "\\begin{equation}\n",
    "    \\psi (\\theta, \\phi) = \\sum ^{N}_{\\lvert m \\rvert = 0} \\sum ^{N}_{n=\\lvert m \\rvert} \\psi_{nm} Y^m_n(\\theta, \\phi)\n",
    "\\end{equation}\n",
    "$$"
   ]
  },
  {
   "cell_type": "code",
   "execution_count": 3,
   "id": "6fb51a9c-9467-49f3-b474-efbba2506298",
   "metadata": {},
   "outputs": [],
   "source": [
    "def reconstruction(f_nm, theta, phi, lMax):  #Reconstruction from sph_harm, takes f_{nm} and returns f(theta,phi)\n",
    "    f_TP = np.zeros((N_p, N_t), dtype=complex)\n",
    "    #double sum\n",
    "    for m in range(lMax):\n",
    "        #Y_nm = sphericalHarmonic(np.array([m, lMax]), np.array([0, lMax]), theta, phi)\n",
    "        for n in range(m, lMax):\n",
    "            #Y_nm = sph_harm (m, n, p.reshape(-1), t.reshape(-1)).reshape(N_p, N_t)\n",
    "            Y_nm = sphericalHarmonic(n, m, theta, phi).reshape(N_t, N_p).T\n",
    "            f_TP += np.real(f_nm[n,m]*Y_nm)\n",
    "        '''f_TP shape (N_p, N_t)'''\n",
    "    return f_TP"
   ]
  },
  {
   "cell_type": "code",
   "execution_count": 5,
   "id": "33d575cc-b4dd-40c6-b213-a80a8f448eb0",
   "metadata": {},
   "outputs": [],
   "source": [
    "def Ysin(m,n,theta,phi):\n",
    "    mp1 = np.sqrt(((2.*n+1.)*(n-m)*(n-m-1.))/(2.*n-1.))\n",
    "    mm1 = np.sqrt((2.*n+1.)*(n+m-1)*(n+m)/(2.*n-1.))\n",
    "    t, p = np.meshgrid(theta, phi)\n",
    "    #A = np.exp(-1j*p).reshape(-1)*sph_harm(m+1, n-1, p.reshape(-1), t.reshape(-1))*mp1\n",
    "    A = np.exp(-1j*(p.T))*(sphericalHarmonic(n-1, m+1, theta, phi).reshape(N_t, N_p))*mp1\n",
    "    #B = np.exp(1j*p).reshape(-1)*sph_harm(m-1, n-1, p.reshape(-1), t.reshape(-1))*mm1\n",
    "    B = np.exp(1j*(p.T))*(sphericalHarmonic(n-1, m-1, theta, phi).reshape(N_t, N_p))*mm1\n",
    "    #sp = sphericalHarmonic(2, 0, theta, phi, normalized=True).reshape(N_t,N_p) #sphericalHarmonic(n,m,theta,phi)\n",
    "    #sp_a = (1/4)*np.sqrt(5/np.pi)*(3*np.cos(t)**2-1).reshape(N_p, N_t).T\n",
    "    '''sp and sp_a both have shape (N_t, N_p)'''\n",
    "    \n",
    "    '''A, B has the shape (N_t,N_p)'''\n",
    "    if (m+2)<=n:\n",
    "        Ysin = -1*(A+B)/(2*m)\n",
    "    else:\n",
    "        Ysin = -1*B/(2*m) \n",
    "        '''Ysin shape(N_t,N_p)'''\n",
    "    return Ysin.reshape(N_t,N_p).T"
   ]
  },
  {
   "cell_type": "code",
   "execution_count": 6,
   "id": "98076b72-45d3-41aa-adaf-b656a0447c66",
   "metadata": {},
   "outputs": [],
   "source": [
    "#f(theta,phi)/(sin\\theta)\n",
    "def fsin(f, theta, phi, lMax):\n",
    "    output = np.zeros((N_p, N_t))\n",
    "    t, p = np.meshgrid(theta, phi)\n",
    "    f_nm = projection(f, theta, phi, lMax)\n",
    "    #f = np.zeros((N_p, N_t))\n",
    "    #Ysin = np.zeros((N_t, N_p), dtype=complex)\n",
    "    for m in range(1, lMax):\n",
    "        for n in range(m, lMax):\n",
    "            Y = Ysin(m,n,theta,phi)\n",
    "            output += 2.*np.real(f_nm[n,m]*Y)\n",
    "    return output"
   ]
  },
  {
   "cell_type": "markdown",
   "id": "13499e09-b4d8-4f1b-8eef-5579fddbe57d",
   "metadata": {},
   "source": [
    "$$\n",
    "\\zeta=-\\frac{\\partial V}{\\partial \\cos\\theta} - \\frac{1}{\\sin^2\\theta}\\frac{\\partial U}{\\partial \\phi} = \\frac{1}{\\sin\\theta}\\frac{\\partial V}{\\partial \\theta} - \\frac{1}{\\sin^2\\theta}\\frac{\\partial U}{\\partial \\phi}\n",
    "$$"
   ]
  },
  {
   "cell_type": "code",
   "execution_count": 7,
   "id": "206021a7-96cf-4289-bec7-c018d7a0f437",
   "metadata": {},
   "outputs": [],
   "source": [
    "# to calculate zeta_tp\n",
    "def zeta(U_tp, V_tp, theta, phi, lMax): \n",
    "    t, p = np.meshgrid(theta, phi)\n",
    "    dvdt = np.gradient(V_tp, theta, axis=1)\n",
    "    usin = fsin(U_tp, theta, phi, lMax)\n",
    "    dusindp = np.gradient(usin, phi, axis=0)\n",
    "    zeta_tp = (1/r)*fsin(dvdt-dusindp, theta, phi, lMax)\n",
    "    #zeta_nm = projection(zeta_tp, theta, phi, lMax)\n",
    "    return zeta_tp"
   ]
  },
  {
   "cell_type": "markdown",
   "id": "45000aca-a7a6-4d17-be61-d7aa9eeee63e",
   "metadata": {},
   "source": [
    "$$\n",
    "p_{nm}=\\frac{-1}{n(n+1)}(\\nabla^2P)_{nm}\n",
    "$$"
   ]
  },
  {
   "cell_type": "code",
   "execution_count": 8,
   "id": "50c7ff35-d202-48cf-abde-e8bf6e04dfa6",
   "metadata": {},
   "outputs": [],
   "source": [
    "# to calculate p_nm\n",
    "def pressure(U_TP, V_TP, zeta_tp, omega, theta, phi, lMax): \n",
    "    t, p = np.meshgrid(theta, phi)\n",
    "    U1_tp = V_TP*zeta_tp+2*omega*np.cos(t)*V_TP #U'(theta, phi)\n",
    "    V1_tp = -1*U_TP*zeta_tp-2*omega*np.cos(t)*U_TP #V'(theta, phi)\n",
    "    du1dt = np.gradient(U1_tp, theta, axis=1)\n",
    "    divP1 = fsin(du1dt, theta, phi, lMax)\n",
    "    dv1dp = np.gradient(V1_tp, phi, axis=0)\n",
    "    sin1 = fsin(dv1dp, theta, phi, lMax)\n",
    "    divP2 = fsin(sin1, theta, phi, lMax)\n",
    "    divP = divP1 + divP2 #\\nabla^1 P\n",
    "    divP_nm = projection(divP, theta, phi, lMax)\n",
    "    p_nm = np.zeros((lMax, lMax), dtype=complex)\n",
    "    for m in range (1, lMax):\n",
    "        for n in range (m, lMax):\n",
    "            p_nm[n,m] = (-1/(n*(n+1)))*divP_nm[n,m]\n",
    "    return p_nm"
   ]
  },
  {
   "cell_type": "code",
   "execution_count": 9,
   "id": "46c17ced-0c8d-4fc0-a5d2-80fba264eb72",
   "metadata": {},
   "outputs": [],
   "source": [
    "def B_np(n,m):\n",
    "    B_np = -n*(n-m+1)/(2*n+1)\n",
    "    return B_np"
   ]
  },
  {
   "cell_type": "code",
   "execution_count": 10,
   "id": "b3b05197-a9fe-4732-aa63-392058865154",
   "metadata": {},
   "outputs": [],
   "source": [
    "def B_nm(n,m):\n",
    "    B_nm = (n+1)*(n+m)/(2*n+1)\n",
    "    return B_nm"
   ]
  },
  {
   "cell_type": "code",
   "execution_count": 11,
   "id": "d4f3d9c9-dcf5-4f80-b9f8-6e37e4546c14",
   "metadata": {},
   "outputs": [],
   "source": [
    "def g(n,m):\n",
    "    g_nm = ((2*n+1)*factorial(n+m)/factorial(n-m))**(1/2)\n",
    "    return g_nm"
   ]
  },
  {
   "cell_type": "code",
   "execution_count": 12,
   "id": "6602697a-4090-44a9-8c5c-cbb3475bf152",
   "metadata": {
    "tags": []
   },
   "outputs": [],
   "source": [
    "#P_n^m, degree n, order m\n",
    "#P_n^m(x), this is working and has been tested\n",
    "def Pmn(m,n,x):\n",
    "    #Pmn shape is the same as theta for x=cos(theta)\n",
    "    leg = legendre(n)\n",
    "    P_n = leg(x)  #P_n(x)\n",
    "    deriv = P_n \n",
    "    d = 0\n",
    "    for i in range(m):\n",
    "        #d = np.gradient(deriv,x)\n",
    "        d = np.gradient(deriv)\n",
    "        deriv = d\n",
    "    pcos = ((-1)**m)*((1-x**2)**(m/2))*deriv\n",
    "    return pcos"
   ]
  },
  {
   "cell_type": "code",
   "execution_count": 13,
   "id": "2a5bc4a2-bcb5-4f34-ad12-d1faba6bf88d",
   "metadata": {
    "tags": []
   },
   "outputs": [],
   "source": [
    "#P_n(x)\n",
    "def P_n(x, n):\n",
    "    le = legendre(n)\n",
    "    pn = le(x)\n",
    "    return pn "
   ]
  },
  {
   "cell_type": "code",
   "execution_count": 14,
   "id": "2c6841fc-1a87-46d8-9a93-c427c67bf25a",
   "metadata": {
    "tags": []
   },
   "outputs": [],
   "source": [
    "def associated_legendre(m, n, x):\n",
    "    Pnm1 = P_n(x, 0)\n",
    "    Pn = P_n(x, 1)\n",
    "    for i in range(n-1):\n",
    "        Pnp1 = (n-m+1)**(-1)*((2*n+1)*Pn-(n+m)*Pnm1)\n",
    "        Pnm1 = Pn\n",
    "        Pn = Pnp1\n",
    "    return Pnp1"
   ]
  }
 ],
 "metadata": {
  "kernelspec": {
   "display_name": "Python 3 (ipykernel)",
   "language": "python",
   "name": "python3"
  },
  "language_info": {
   "codemirror_mode": {
    "name": "ipython",
    "version": 3
   },
   "file_extension": ".py",
   "mimetype": "text/x-python",
   "name": "python",
   "nbconvert_exporter": "python",
   "pygments_lexer": "ipython3",
   "version": "3.10.10"
  },
  "widgets": {
   "application/vnd.jupyter.widget-state+json": {
    "state": {},
    "version_major": 2,
    "version_minor": 0
   }
  }
 },
 "nbformat": 4,
 "nbformat_minor": 5
}
