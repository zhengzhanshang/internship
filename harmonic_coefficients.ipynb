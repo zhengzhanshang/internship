{
 "cells": [
  {
   "cell_type": "code",
   "execution_count": 1,
   "id": "e1e96665-b17f-4661-a487-a7c65feb333a",
   "metadata": {},
   "outputs": [],
   "source": [
    "import matplotlib.pyplot as plt\n",
    "import numpy as np\n",
    "import sympy as sy\n",
    "from sympy import Derivative, Symbol\n",
    "from scipy.special import sph_harm \n",
    "from scipy import integrate\n",
    "from scipy.integrate import dblquad\n",
    "from scipy.integrate import quad"
   ]
  },
  {
   "cell_type": "code",
   "execution_count": 2,
   "id": "ee556dce-e301-400a-9e19-889cb09d4a47",
   "metadata": {},
   "outputs": [],
   "source": [
    "N_t = 50\n",
    "N_p = 100\n",
    "theta = np.linspace(1e-4, np.pi, N_t) #make the starting point very small\n",
    "phi = np.linspace(0, 2*np.pi, N_p) \n",
    "t, p = np.meshgrid(theta, phi)\n",
    "lMax = 20 #lMax is N\n",
    "omega = 3.6 #omega is te angular rotation\n",
    "nu = 1.5  #\\nu is kinematic viscosity\n",
    "T = 4 #total time\n",
    "\n",
    "#let r=1\n",
    "#input stream function psi_TP=np.cos(t)**3*np.sin(t)*np.sin(p)**2\n",
    "U_tp = -np.sin(t)*np.cos(t)**3*2*np.sin(p)*np.cos(p) #this is obtained by analytical calculation\n",
    "V_tp = np.sin(t)*np.sin(p)**2*((-3)*np.cos(t)**2*np.sin(t)**2+np.cos(t)**4)"
   ]
  },
  {
   "cell_type": "code",
   "execution_count": 3,
   "id": "844d0f46-9615-4c7a-91af-d237e0d08048",
   "metadata": {},
   "outputs": [],
   "source": [
    "def projection(f_tp, theta, phi, lMax): # Projection onto sph_harm: takes f(theta,phi) as input and returns f_{nm}\n",
    "    t, p = np.meshgrid (theta, phi)\n",
    "    f_nm = np.zeros((lMax, lMax), dtype=complex)\n",
    "    for m in range (lMax): \n",
    "        for n in range (m, lMax):\n",
    "            Y_nm = sph_harm (m, n, p.reshape(-1), t.reshape(-1))\n",
    "            Y_ast = np.conj(Y_nm.reshape(N_p, N_t))\n",
    "            f_nm[n,m] = integrate.simpson(integrate.simpson(f_tp*Y_ast*np.sin(t), theta), phi)\n",
    "    return f_nm"
   ]
  },
  {
   "cell_type": "code",
   "execution_count": 4,
   "id": "9d09cc3b-4e50-496a-befc-0e201a27220e",
   "metadata": {},
   "outputs": [],
   "source": [
    "def reconstruction(f_nm, theta, phi, lMax):  #Reconstruction from sph_harm, takes f_{nm} and returns f(theta,phi)\n",
    "    f_TP = np.zeros((N_p, N_t))\n",
    "    #double sum\n",
    "    for m in range(lMax):\n",
    "        for n in range(m, lMax):\n",
    "            Y_nm = sph_harm (m, n, p.reshape(-1), t.reshape(-1)).reshape(N_p, N_t)\n",
    "            if m==0:\n",
    "                f_TP += np.real(f_nm[n,m]*Y_nm) # A+=B is equivalent to A=A+B\n",
    "            else:\n",
    "                f_TP += 2.*np.real(f_nm[n,m]*Y_nm)\n",
    "    return f_TP"
   ]
  },
  {
   "cell_type": "code",
   "execution_count": 5,
   "id": "2980491f-487b-45ae-996e-700a12e67cd0",
   "metadata": {},
   "outputs": [],
   "source": [
    "u_nm = projection(U_tp, theta, phi, lMax) #project U_tp to u_nm\n",
    "v_nm = projection(V_tp, theta, phi, lMax) "
   ]
  },
  {
   "cell_type": "code",
   "execution_count": 6,
   "id": "08ca6977-fbde-48da-b028-a47c288bb0c0",
   "metadata": {},
   "outputs": [],
   "source": [
    "U_TP = reconstruction(u_nm, theta, phi, lMax) #reconstructed U(theta, phi) using u_nm\n",
    "V_TP = reconstruction(v_nm, theta, phi, lMax) "
   ]
  },
  {
   "cell_type": "code",
   "execution_count": 7,
   "id": "0f378c6b-9248-4ac9-9c8d-8a2917442523",
   "metadata": {},
   "outputs": [
    {
     "name": "stdout",
     "output_type": "stream",
     "text": [
      "max difference between original and reconstructed U\n",
      " 0.03427679241137341\n",
      "max difference between original and reconstructed V\n",
      " 0.02839982457632936\n"
     ]
    }
   ],
   "source": [
    "print (\"max difference between original and reconstructed U\\n\",np.amax(np.abs(U_TP-U_tp)))\n",
    "print (\"max difference between original and reconstructed V\\n\",np.amax(np.abs(V_TP-V_tp)))"
   ]
  },
  {
   "cell_type": "code",
   "execution_count": 8,
   "id": "eb7ce311-9cd3-4521-9ecd-4dce8ba06263",
   "metadata": {},
   "outputs": [],
   "source": [
    "zeta_nm = np.zeros((lMax, lMax), dtype=complex)\n",
    "for m in range (1, lMax):\n",
    "    for n in range (m, lMax):\n",
    "        zeta_nm[n,m] = -1j*(n*(n+1)/m)*u_nm[n,m]\n",
    "\n",
    "zeta_tp = reconstruction(zeta_nm, theta, phi, lMax)\n",
    "U1_tp = V_TP*zeta_tp+2*omega*np.cos(t)*V_TP #U'(theta, phi)\n",
    "V1_tp = -1*U_TP*zeta_tp-2*omega*np.cos(t)*U_TP #V'(theta, phi)\n",
    "u1_nm = projection(U1_tp, theta, phi, lMax) #u'_nm\n",
    "v1_nm = projection(V1_tp, theta, phi, lMax) #v'_nm\n",
    "\n",
    "divP=-1*np.gradient(U1_tp, np.cos(theta), axis=1)+(1/(np.sin(theta)**2))*np.gradient(V1_tp, phi, axis=0) #\\nabla^2 P\n",
    "    \n",
    "divP_nm = projection(divP, theta, phi, lMax) #\\nabla^2 P_nm\n",
    "p_nm = np.zeros((lMax, lMax), dtype=complex)\n",
    "for m in range (1, lMax):\n",
    "    for n in range (m, lMax):\n",
    "        p_nm[n,m] = (-1/(n*(n+1)))*divP_nm[n,m]"
   ]
  },
  {
   "cell_type": "code",
   "execution_count": 12,
   "id": "4a73fbc2-b2c7-4e4d-bcb0-7e6fa3b8d8d6",
   "metadata": {
    "tags": []
   },
   "outputs": [
    {
     "name": "stderr",
     "output_type": "stream",
     "text": [
      "/tmp/ipykernel_507/1839075424.py:2: UserWarning: The following kwargs were not used by contour: 'shading'\n",
      "  ax[0].contourf(np.real(u1_nm),shading='auto')\n",
      "/tmp/ipykernel_507/1839075424.py:4: UserWarning: The following kwargs were not used by contour: 'shading', 'label'\n",
      "  ax[1].contourf(np.real(v1_nm),shading='auto', label='v_dt')\n",
      "No artists with labels found to put in legend.  Note that artists whose label start with an underscore are ignored when legend() is called with no argument.\n"
     ]
    },
    {
     "data": {
      "image/png": "[encoded data removed]",
      "text/plain": [
       "<Figure size 640x480 with 2 Axes>"
      ]
     },
     "metadata": {},
     "output_type": "display_data"
    }
   ],
   "source": [
    "f,ax = plt.subplots(1,2);\n",
    "ax[0].contourf(np.real(u1_nm),shading='auto')\n",
    "ax[0].set_title('u1_nm')\n",
    "ax[1].contourf(np.real(v1_nm),shading='auto', label='v_dt')\n",
    "ax[1].set_title('v1_nm')\n",
    "#im = ax[2].pcolormesh(theta,phi,np.real(psi_TP - psi_tp),shading='auto')\n",
    "#plt.colorbar(im)\n",
    "plt.show()\n"
   ]
  }
 ],
 "metadata": {
  "kernelspec": {
   "display_name": "Python 3 (ipykernel)",
   "language": "python",
   "name": "python3"
  },
  "language_info": {
   "codemirror_mode": {
    "name": "ipython",
    "version": 3
   },
   "file_extension": ".py",
   "mimetype": "text/x-python",
   "name": "python",
   "nbconvert_exporter": "python",
   "pygments_lexer": "ipython3",
   "version": "3.10.10"
  },
  "widgets": {
   "application/vnd.jupyter.widget-state+json": {
    "state": {},
    "version_major": 2,
    "version_minor": 0
   }
  }
 },
 "nbformat": 4,
 "nbformat_minor": 5
}
