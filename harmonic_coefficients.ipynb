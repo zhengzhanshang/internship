{
 "cells": [
  {
   "cell_type": "code",
   "execution_count": 1,
   "id": "e1e96665-b17f-4661-a487-a7c65feb333a",
   "metadata": {},
   "outputs": [],
   "source": [
    "import matplotlib.pyplot as plt\n",
    "import numpy as np\n",
    "import sympy as sy\n",
    "from sympy import Derivative, Symbol\n",
    "from scipy.special import sph_harm \n",
    "from scipy import integrate\n",
    "from scipy.integrate import dblquad\n",
    "from scipy.integrate import quad\n",
    "%run -i func_proj_reconst.ipynb\n",
    "%run -i func_zeta_pressure.ipynb"
   ]
  },
  {
   "cell_type": "markdown",
   "id": "1628d021-1dc2-4b7e-9268-65c287398d78",
   "metadata": {},
   "source": [
    "Input Streamfunction:\n",
    "\n",
    "$$\n",
    "\\psi(\\theta, \\phi)= Re(Y_n^m(\\theta,\\phi))\n",
    "= Re(Y_2^1(\\theta,\\phi)) = Re(A\\cos\\theta\\sin\\theta e^{i\\phi}) = A\\cos\\theta\\sin\\theta \\cos\\phi\n",
    "$$\n",
    "\n",
    "$$\n",
    "A = \\frac{-1}{2}\\sqrt{\\frac{15}{2\\pi}}\n",
    "$$\n",
    "\n",
    "Analytical expression for U and V:\n",
    "\n",
    "$$\n",
    "U(\\theta, \\phi)=-\\frac{1}{r} \\frac{\\partial \\psi}{\\partial \\phi} = \\frac{A\\sin\\phi}{r}\\cos\\theta\\sin\\theta\n",
    "$$\n",
    "\n",
    "$$\n",
    "V(\\theta, \\phi)=\\frac{\\sin \\theta}{r}\\frac{\\partial \\psi}{\\partial \\theta} = \\frac{A\\cos\\phi}{r}(\\cos^2\\theta\\sin\\theta-\\sin^3\\theta)\n",
    "$$"
   ]
  },
  {
   "cell_type": "code",
   "execution_count": 2,
   "id": "ee556dce-e301-400a-9e19-889cb09d4a47",
   "metadata": {},
   "outputs": [],
   "source": [
    "N_t = 100\n",
    "N_p = 200\n",
    "#make the starting point very small\n",
    "theta = np.linspace(1e-6, np.pi, N_t) #100pts \n",
    "phi = np.linspace(0, 2*np.pi, N_p)  #200pts\n",
    "t, p = np.meshgrid(theta, phi) #create a matrix with size theta x phi (100x200), 20000 pts\n",
    "lMax = 20 #lMax is N\n",
    "omega = 3.6 #omega is te angular rotation\n",
    "nu = 1.5  #\\nu is kinematic viscosity\n",
    "T = 4 #total time\n",
    "r = 1 #let r=1"
   ]
  },
  {
   "cell_type": "code",
   "execution_count": 3,
   "id": "2159dc02-c0c5-4223-b163-5a5e0ae83df3",
   "metadata": {},
   "outputs": [],
   "source": [
    "A = (-1/2)*((15/(2*np.pi))**(1/2))\n",
    "psi_tp_a = A*np.cos(t)*np.sin(t)*np.cos(p) #nanalytical psi\n",
    "psi_tp = np.real(sph_harm (1, 2, p.reshape(-1), t.reshape(-1)).reshape(N_p, N_t)) #numerical psi"
   ]
  },
  {
   "cell_type": "code",
   "execution_count": 4,
   "id": "e8ed1ce3-a08b-4fd3-8433-91dfb05ed4cd",
   "metadata": {
    "tags": []
   },
   "outputs": [],
   "source": [
    "#U_tp_n is the numerical expression of U_tp\n",
    "U_tp_n = -(1/r)*np.gradient(psi_tp, phi, axis=0)\n",
    "V_tp_n = (np.sin(t)/r)*np.gradient(psi_tp, theta, axis=1)\n",
    "\n",
    "U_tp = (A/r)*np.cos(t)*np.sin(t)*np.sin(p) #this is obtained by analytical calculation\n",
    "V_tp = (A*np.cos(p)/r)*(np.cos(t)**2*np.sin(t)-np.sin(t)**3)\n",
    "\n",
    "psi_nm = projection(psi_tp, theta, phi, lMax)\n",
    "psi_TP = reconstruction(psi_nm, theta, phi, lMax) #reconstructed\n"
   ]
  },
  {
   "cell_type": "code",
   "execution_count": 5,
   "id": "a925c368-1f20-4453-8e53-f72fcc8920b5",
   "metadata": {},
   "outputs": [],
   "source": [
    "u_nm = projection(U_tp, theta, phi, lMax) #project U_tp to u_nm\n",
    "v_nm = projection(V_tp, theta, phi, lMax) \n",
    "\n",
    "U_TP = reconstruction(u_nm, theta, phi, lMax) #reconstructed U(theta, phi) using u_nm\n",
    "V_TP = reconstruction(v_nm, theta, phi, lMax) "
   ]
  },
  {
   "cell_type": "code",
   "execution_count": 17,
   "id": "9318a541-f73a-4499-8f7d-36992614d989",
   "metadata": {},
   "outputs": [],
   "source": [
    "u_nm_n = projection(U_tp_n, theta, phi, lMax) #project U_tp to u_nm\n",
    "v_nm_n = projection(V_tp_n, theta, phi, lMax) \n",
    "\n",
    "U_TP_n = reconstruction(u_nm_n, theta, phi, lMax) #reconstructed U(theta, phi) using u_nm\n",
    "V_TP_n = reconstruction(v_nm_n, theta, phi, lMax) "
   ]
  },
  {
   "cell_type": "markdown",
   "id": "1e9164dd-791e-4ef9-9960-6ba3957bd318",
   "metadata": {},
   "source": [
    "Analytical expression of different quantities:\n",
    "$$\n",
    "\\zeta = (\\nabla \\times \\hat{u})_r = \\frac{1}{r\\sin\\theta}(\\frac{\\partial}{\\partial \\theta}(u_\\phi\\sin\\theta)-\\frac{\\partial}{\\partial \\phi}u_\\theta) = \\frac{1}{r\\sin\\theta}(\\frac{\\partial}{\\partial \\theta}V-\\frac{\\partial}{\\partial\\phi}\\frac{U}{\\sin\\theta})\n",
    "$$\n",
    "\n",
    "$$\n",
    "U'(\\theta, \\phi)=V\\zeta+2\\Omega V \\cos\\theta\n",
    "$$\n",
    "\n",
    "$$\n",
    "V'(\\theta, \\phi)=-U\\zeta-2\\Omega U \\sin \\theta\n",
    "$$\n",
    "\n",
    "$$\n",
    "\\nabla^2P=-\\frac{\\partial U'}{\\partial \\cos\\theta}+\\frac{1}{\\sin^2\\theta}\\frac{\\partial V'}{\\partial \\phi} = \\frac{1}{\\sin\\theta}\\frac{\\partial U'}{\\partial \\theta}+\\frac{1}{\\sin^2\\theta}\\frac{\\partial V'}{\\partial \\phi}\n",
    "$$\n",
    "\n",
    "$$\n",
    "p_{nm}=\\frac{-1}{n(n+1)}(\\nabla^2P)_{nm}\n",
    "$$"
   ]
  },
  {
   "cell_type": "code",
   "execution_count": 62,
   "id": "eb7ce311-9cd3-4521-9ecd-4dce8ba06263",
   "metadata": {},
   "outputs": [],
   "source": [
    "zeta_nm = np.zeros((lMax, lMax), dtype=complex)\n",
    "for m in range (1, lMax):\n",
    "    for n in range (m, lMax):\n",
    "        zeta_nm[n,m] = -1j*(n*(n+1)/m)*u_nm[n,m]\n",
    "\n",
    "zeta_tp = reconstruction(zeta_nm, theta, phi, lMax)\n",
    "U1_tp = V_tp*zeta_tp+2*omega*np.cos(t)*V_tp #U'(theta, phi)\n",
    "V1_tp = -1*U_tp*zeta_tp-2*omega*np.sin(t)*U_tp #V'(theta, phi)\n",
    "u1_nm = projection(U1_tp, theta, phi, lMax) #u'_nm\n",
    "v1_nm = projection(V1_tp, theta, phi, lMax) #v'_nm"
   ]
  },
  {
   "cell_type": "code",
   "execution_count": 24,
   "id": "836be590-bc2e-4450-8c94-e4b98e632f0f",
   "metadata": {
    "tags": []
   },
   "outputs": [],
   "source": [
    "#divP = -1*np.gradient(U1_tp, np.cos(theta), axis=1)+(1/(np.sin(t)**2))*np.gradient(V1_tp, phi, axis=0) #\\nabla^2 P\n",
    "divP = (1/np.sin(t))*np.gradient(U1_tp, theta, axis=1)+(1/(np.sin(t)**2))*np.gradient(V1_tp, phi, axis=0) #\\nabla^2 P\n",
    "\n",
    "divP_nm = projection(divP, theta, phi, lMax) #\\nabla^2 P_nm\n",
    "p_nm = np.zeros((lMax, lMax), dtype=complex)\n",
    "for m in range (1, lMax):\n",
    "    for n in range (m, lMax):\n",
    "        p_nm[n,m] = (-1/(n*(n+1)))*divP_nm[n,m]"
   ]
  },
  {
   "cell_type": "code",
   "execution_count": 8,
   "id": "ee8f28bd-f14e-46fb-a7c2-cf258ca46774",
   "metadata": {
    "tags": []
   },
   "outputs": [
    {
     "data": {
      "image/png": "[encoded data removed]",
      "text/plain": [
       "<Figure size 640x480 with 4 Axes>"
      ]
     },
     "metadata": {},
     "output_type": "display_data"
    }
   ],
   "source": [
    "fig,ax = plt.subplots(1,4);\n",
    "ax[0].contourf(np.real(zeta_nm))\n",
    "ax[0].set_title('zeta_nm')\n",
    "ax[1].contourf(np.real(u1_nm))\n",
    "ax[1].set_title(\"u'_nm\")\n",
    "ax[2].contourf(np.real(v1_nm))\n",
    "ax[2].set_title(\"v'_nm\")\n",
    "ax[3].contourf(np.real(p_nm))\n",
    "ax[3].set_title('p_nm')\n",
    "fig.show()"
   ]
  },
  {
   "cell_type": "markdown",
   "id": "0fbc1dfb-ae9d-4539-ba2b-5245026ce0ce",
   "metadata": {},
   "source": [
    "For the above arbitrary stream function $$ \\psi(\\theta, \\phi)= Re(Y_n^m(\\theta,\\phi))\n",
    "= Re(Y_2^1(\\theta,\\phi)) = Re(A\\cos\\theta\\sin\\theta e^{i\\phi}) = A\\cos\\theta\\sin\\theta \\cos\\phi\n",
    "$$\n",
    "\n",
    "The analytical expression of the harmonics quantities is calculated as:\n",
    "\n",
    "$$\n",
    "\\zeta = \\frac{A\\cos\\phi}{r^2}(-5\\cos\\theta\\sin\\theta+\\frac{\\cos^3\\theta}{\\sin\\theta}-\\frac{\\cos\\theta}{\\sin\\theta})\n",
    "$$\n",
    "\n",
    "$$\n",
    "U' = \\frac{A^2\\cos^2\\phi}{r^3} (5\\cos\\theta\\sin^4\\theta + \\cos^5\\theta - 6\\cos^3\\theta\\sin^2\\theta - \\cos^3\\theta + \\cos\\theta\\sin^2\\theta) + \\frac{2\\Omega A\\cos\\phi}{r}(\\cos^3\\theta\\sin\\theta - \\cos\\theta\\sin^3\\theta)\n",
    "$$\n",
    "\n",
    "\n",
    "$$\n",
    "V' = \\frac{-A^2\\cos\\phi\\sin\\phi}{r^3} (-5\\cos^2\\theta\\sin^2\\theta + \\cos^4\\theta -\\cos^2\\theta) + \\frac{-2\\Omega A\\sin\\phi}{r}\\cos\\theta\\sin^2\\theta\n",
    "$$\n",
    "\n",
    "$$\n",
    "\\nabla^2P = \\frac{A^2\\cos^2\\phi}{r^3}(38\\cos^2\\theta\\sin^2\\theta - 17\\cos^4\\theta + 5\\cos^2\\theta - 5\\sin^4\\theta - \\sin^2\\theta) + \\frac{2\\Omega A\\cos\\phi}{r}(-6\\cos^2\\theta\\sin\\theta + \\frac{\\cos^4\\theta}{\\sin\\theta} + \\sin^3\\theta) + \\frac{-A^2}{r^3}(\\cos^2\\phi - \\sin^2\\phi) (-5\\cos^2\\theta + \\frac{\\cos^4\\theta}{\\sin^2\\theta} - \\frac{\\cos^2\\theta}{\\sin^2\\theta}) + \\frac{-2\\Omega A \\cos\\phi}{r}\\cos\\theta\n",
    "$$"
   ]
  },
  {
   "cell_type": "markdown",
   "id": "d92bcfb0-e394-4672-9212-51fff13f6a54",
   "metadata": {},
   "source": [
    "$$\\textit{\"_a\" denotes the analytical expression obtained by hand (equations above)}$$"
   ]
  },
  {
   "cell_type": "markdown",
   "id": "496d981b-44d8-40a1-b831-408e11c6108d",
   "metadata": {
    "tags": []
   },
   "source": [
    "$$\n",
    "\\zeta = \\frac{A\\cos\\phi}{r^2}(-5\\cos\\theta\\sin\\theta+\\frac{\\cos^3\\theta}{\\sin\\theta}-\\frac{\\cos\\theta}{\\sin\\theta})\n",
    "$$"
   ]
  },
  {
   "cell_type": "code",
   "execution_count": 69,
   "id": "5a57811a-4ff1-40a6-9959-1ac39f999b84",
   "metadata": {
    "tags": []
   },
   "outputs": [
    {
     "name": "stdout",
     "output_type": "stream",
     "text": [
      "max difference between analytical and numerical zeta_tp\n",
      " 0.010742869764550411\n",
      "max difference between analytical and numerical zeta_nm\n",
      " 0.002315789365642499\n"
     ]
    }
   ],
   "source": [
    "zeta_tp_a = A*np.cos(p)*(-5*np.cos(t)*np.sin(t)+(np.cos(t)**3/np.sin(t))-(np.cos(t)/np.sin(t)))/(r**2) \n",
    "\n",
    "zeta_nm_a = projection(zeta_tp_a, theta, phi, lMax)\n",
    "print (\"max difference between analytical and numerical zeta_tp\\n\",np.amax(np.abs(zeta_tp_a-zeta_tp)))\n",
    "print (\"max difference between analytical and numerical zeta_nm\\n\",np.amax(np.abs(zeta_nm_a-zeta_nm)))\n",
    "\n",
    "#plt.plot(zeta_tp-zeta_tp_a); \n",
    "#plt.plot(zeta_nm-zeta_nm_a)"
   ]
  },
  {
   "cell_type": "markdown",
   "id": "d6bd8cde-819f-4b40-83cd-b29b5a4358fb",
   "metadata": {},
   "source": [
    "$$\n",
    "U' = \\frac{A^2\\cos^2\\phi}{r^3} (5\\cos\\theta\\sin^4\\theta + \\cos^5\\theta - 6\\cos^3\\theta\\sin^2\\theta - \\cos^3\\theta + \\cos\\theta\\sin^2\\theta) + \\frac{2\\Omega A\\cos\\phi}{r}(\\cos^3\\theta\\sin\\theta - \\cos\\theta\\sin^3\\theta)\n",
    "$$"
   ]
  },
  {
   "cell_type": "code",
   "execution_count": 67,
   "id": "679f75ec-e845-4573-bb36-4dae33171e15",
   "metadata": {},
   "outputs": [
    {
     "name": "stdout",
     "output_type": "stream",
     "text": [
      "max difference between analytical and numerical U1_tp\n",
      " 0.0010490908715388159\n",
      "max difference between analytical and numerical U1_nm\n",
      " 0.00031636548018833645\n"
     ]
    }
   ],
   "source": [
    "a_U = A**2*np.cos(p)**2*(5*np.cos(t)*np.sin(t)**4+np.cos(t)**5-6*np.cos(t)**3*np.sin(t)**2-np.cos(t)**3+np.cos(t)*np.sin(t)**2)/(r**3)\n",
    "b_U = 2*omega*A*np.cos(p)*(np.cos(t)**3*np.sin(t)-np.cos(t)*np.sin(t)**3)/r\n",
    "\n",
    "U1_tp_a=a_U+b_U\n",
    "u1_nm_a = projection(U1_tp_a, theta, phi, lMax)\n",
    "\n",
    "print (\"max difference between analytical and numerical U1_tp\\n\",np.amax(np.abs(U1_tp_a-U1_tp)))\n",
    "print (\"max difference between analytical and numerical U1_nm\\n\",np.amax(np.abs(u1_nm_a-u1_nm)))\n",
    "\n",
    "#plt.plot(U1_tp_a-U1_tp)\n",
    "#plt.plot(u1_nm_a-u1_nm)"
   ]
  },
  {
   "cell_type": "markdown",
   "id": "5509e013-eb6a-442a-ba5e-4930cc288e8b",
   "metadata": {},
   "source": [
    "$$\n",
    "V' = \\frac{-A^2\\cos\\phi\\sin\\phi}{r^3} (-5\\cos^2\\theta\\sin^2\\theta + \\cos^4\\theta -\\cos^2\\theta) + \\frac{-2\\Omega A\\sin\\phi}{r}\\cos\\theta\\sin^2\\theta\n",
    "$$"
   ]
  },
  {
   "cell_type": "code",
   "execution_count": 68,
   "id": "7b2b7359-5781-4395-a20f-aac1db757ffb",
   "metadata": {},
   "outputs": [
    {
     "name": "stdout",
     "output_type": "stream",
     "text": [
      "max difference between analytical and numerical V1_tp\n",
      " 0.0005567369140980771\n",
      "max difference between analytical and numerical v1_nm\n",
      " 0.0002035159178245654\n"
     ]
    }
   ],
   "source": [
    "a_V = -1*A**2*np.cos(p)*np.sin(p)*(-5*np.cos(t)**2*np.sin(t)**2+np.cos(t)**4-np.cos(t)**2)/(r**3)\n",
    "b_V = -2*omega*A*np.sin(p)*np.cos(t)*np.sin(t)**2/r\n",
    "\n",
    "V1_tp_a = a_V+b_V\n",
    "v1_nm_a = projection(V1_tp_a, theta, phi, lMax)\n",
    "\n",
    "print (\"max difference between analytical and numerical V1_tp\\n\",np.amax(np.abs(V1_tp_a-V1_tp)))\n",
    "print (\"max difference between analytical and numerical v1_nm\\n\",np.amax(np.abs(v1_nm_a-v1_nm)))\n",
    " \n",
    "#plt.plot(V1_tp_a-V1_tp)\n",
    "#plt.plot(v1_nm_a-v1_nm)"
   ]
  },
  {
   "cell_type": "markdown",
   "id": "c1905091-e165-467b-8a53-31db5865d8c8",
   "metadata": {},
   "source": [
    "$$\n",
    "\\nabla^2P = \\frac{A^2\\cos^2\\phi}{r^3}(38\\cos^2\\theta\\sin^2\\theta - 17\\cos^4\\theta + 5\\cos^2\\theta - 5\\sin^4\\theta - \\sin^2\\theta) + \\frac{2\\Omega A\\cos\\phi}{r}(-6\\cos^2\\theta\\sin\\theta + \\frac{\\cos^4\\theta}{\\sin\\theta} + \\sin^3\\theta) + \\frac{-A^2}{r^3}(\\cos^2\\phi - \\sin^2\\phi) (-5\\cos^2\\theta + \\frac{\\cos^4\\theta}{\\sin^2\\theta} - \\frac{\\cos^2\\theta}{\\sin^2\\theta}) + \\frac{-2\\Omega A \\cos\\phi}{r}\\cos\\theta\n",
    "$$"
   ]
  },
  {
   "cell_type": "markdown",
   "id": "86f1181e-deca-4eb8-829b-add141541350",
   "metadata": {},
   "source": [
    "$\\textbf{derivation already checked}$"
   ]
  },
  {
   "cell_type": "code",
   "execution_count": 59,
   "id": "8839106e-ed00-4320-b5aa-f62c348a7e2f",
   "metadata": {
    "tags": []
   },
   "outputs": [
    {
     "name": "stdout",
     "output_type": "stream",
     "text": [
      "max difference between analytical and numerical divP\n",
      " 1077147041200840.0\n",
      "max difference between analytical and numerical divP_nm\n",
      " 1.7636331237932124\n"
     ]
    },
    {
     "data": {
      "text/plain": [
       "[<matplotlib.lines.Line2D at 0x7f679c5990c0>]"
      ]
     },
     "execution_count": 59,
     "metadata": {},
     "output_type": "execute_result"
    },
    {
     "data": {
      "image/png": "[encoded data removed]",
      "text/plain": [
       "<Figure size 640x480 with 1 Axes>"
      ]
     },
     "metadata": {},
     "output_type": "display_data"
    }
   ],
   "source": [
    "a_divP=A**2*np.cos(p)**2*(38*np.cos(t)**2*np.sin(t)**2-17*np.cos(t)**4+5*np.cos(t)**2-5*np.cos(t)**4-np.sin(t)**2)/(r**3)\n",
    "b_divP=2*omega*A*np.cos(p)*(-6*np.cos(t)**2*np.sin(t)+(np.cos(t)**4/np.sin(t))+np.sin(t)**3)/r\n",
    "c_divP=-1*A**2*(np.cos(p)**2-np.sin(p)**2)*(-5*np.cos(t)**2+(np.cos(t)**4/(np.sin(t)**2))-(np.cos(t)**2/(np.sin(t)**2)))/(r**3)\n",
    "d_divP=-2*omega*A*np.cos(p)*np.cos(t)/r\n",
    "\n",
    "divP_a=a_divP+b_divP+c_divP+d_divP\n",
    "divP_nm_a = projection(divP_a, theta, phi, lMax)\n",
    "\n",
    "print (\"max difference between analytical and numerical divP\\n\",np.amax(np.abs(divP_a[:,99]-divP[:,99])))\n",
    "print (\"max difference between analytical and numerical divP_nm\\n\",np.amax(np.abs(divP_nm_a[0,:]-divP_nm[0,:])))\n",
    "\n",
    "plt.plot(divP_a[:,99])\n",
    "plt.plot(divP[:,99])"
   ]
  },
  {
   "cell_type": "code",
   "execution_count": null,
   "id": "3650edff-4f0d-4b5d-b623-36f12045adc0",
   "metadata": {},
   "outputs": [],
   "source": []
  }
 ],
 "metadata": {
  "kernelspec": {
   "display_name": "Python 3 (ipykernel)",
   "language": "python",
   "name": "python3"
  },
  "language_info": {
   "codemirror_mode": {
    "name": "ipython",
    "version": 3
   },
   "file_extension": ".py",
   "mimetype": "text/x-python",
   "name": "python",
   "nbconvert_exporter": "python",
   "pygments_lexer": "ipython3",
   "version": "3.10.10"
  },
  "widgets": {
   "application/vnd.jupyter.widget-state+json": {
    "state": {},
    "version_major": 2,
    "version_minor": 0
   }
  }
 },
 "nbformat": 4,
 "nbformat_minor": 5
}
